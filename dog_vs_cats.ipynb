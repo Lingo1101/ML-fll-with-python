{
  "nbformat": 4,
  "nbformat_minor": 0,
  "metadata": {
    "colab": {
      "name": "dog_vs_cats.ipynb",
      "provenance": [],
      "include_colab_link": true
    },
    "kernelspec": {
      "name": "python3",
      "display_name": "Python 3"
    },
    "accelerator": "GPU"
  },
  "cells": [
    {
      "cell_type": "markdown",
      "metadata": {
        "id": "view-in-github",
        "colab_type": "text"
      },
      "source": [
        "<a href=\"https://colab.research.google.com/github/Lingo1101/ML-fll-with-python/blob/master/dog_vs_cats.ipynb\" target=\"_parent\"><img src=\"https://colab.research.google.com/assets/colab-badge.svg\" alt=\"Open In Colab\"/></a>"
      ]
    },
    {
      "cell_type": "code",
      "metadata": {
        "id": "TrvbXeIn2qn-",
        "colab_type": "code",
        "outputId": "1895dc35-4fdb-45bc-d388-0d3eabbfb605",
        "colab": {
          "base_uri": "https://localhost:8080/",
          "height": 35
        }
      },
      "source": [
        "import keras\n",
        "keras.__version__"
      ],
      "execution_count": 0,
      "outputs": [
        {
          "output_type": "execute_result",
          "data": {
            "text/plain": [
              "'2.2.5'"
            ]
          },
          "metadata": {
            "tags": []
          },
          "execution_count": 5
        }
      ]
    },
    {
      "cell_type": "code",
      "metadata": {
        "id": "d0pB9N3l7_qw",
        "colab_type": "code",
        "outputId": "d52d7a35-8603-4f11-fde6-c3b8b93d156c",
        "colab": {
          "base_uri": "https://localhost:8080/",
          "height": 575
        }
      },
      "source": [
        "#下载数据集\n",
        "!pip3 install kaggle\n",
        "!kaggle\n",
        "!echo \"{\\\"username\\\":\\\"dutianze\\\",\\\"key\\\":\\\"b9533426d651bfef4208069a43f9edc7\\\"}\" > /root/.kaggle/kaggle.json\n",
        "!kaggle competitions download -c dogs-vs-cats  # 这句话是复制的 只是加了！"
      ],
      "execution_count": 0,
      "outputs": [
        {
          "output_type": "stream",
          "text": [
            "Requirement already satisfied: kaggle in /usr/local/lib/python3.6/dist-packages (1.5.6)\n",
            "Requirement already satisfied: six>=1.10 in /usr/local/lib/python3.6/dist-packages (from kaggle) (1.12.0)\n",
            "Requirement already satisfied: python-dateutil in /usr/local/lib/python3.6/dist-packages (from kaggle) (2.5.3)\n",
            "Requirement already satisfied: urllib3<1.25,>=1.21.1 in /usr/local/lib/python3.6/dist-packages (from kaggle) (1.24.3)\n",
            "Requirement already satisfied: certifi in /usr/local/lib/python3.6/dist-packages (from kaggle) (2019.9.11)\n",
            "Requirement already satisfied: python-slugify in /usr/local/lib/python3.6/dist-packages (from kaggle) (3.0.6)\n",
            "Requirement already satisfied: tqdm in /usr/local/lib/python3.6/dist-packages (from kaggle) (4.28.1)\n",
            "Requirement already satisfied: requests in /usr/local/lib/python3.6/dist-packages (from kaggle) (2.21.0)\n",
            "Requirement already satisfied: text-unidecode>=1.3 in /usr/local/lib/python3.6/dist-packages (from python-slugify->kaggle) (1.3)\n",
            "Requirement already satisfied: chardet<3.1.0,>=3.0.2 in /usr/local/lib/python3.6/dist-packages (from requests->kaggle) (3.0.4)\n",
            "Requirement already satisfied: idna<2.9,>=2.5 in /usr/local/lib/python3.6/dist-packages (from requests->kaggle) (2.8)\n",
            "Traceback (most recent call last):\n",
            "  File \"/usr/local/bin/kaggle\", line 6, in <module>\n",
            "    from kaggle.cli import main\n",
            "  File \"/usr/local/lib/python2.7/dist-packages/kaggle/__init__.py\", line 23, in <module>\n",
            "    api.authenticate()\n",
            "  File \"/usr/local/lib/python2.7/dist-packages/kaggle/api/kaggle_api_extended.py\", line 146, in authenticate\n",
            "    self.config_file, self.config_dir))\n",
            "IOError: Could not find kaggle.json. Make sure it's located in /root/.kaggle. Or use the environment method.\n",
            "Warning: Your Kaggle API key is readable by other users on this system! To fix this, you can run 'chmod 600 /root/.kaggle/kaggle.json'\n",
            "Warning: Looks like you're using an outdated API Version, please consider updating (server 1.5.6 / client 1.5.4)\n",
            "Downloading sampleSubmission.csv to /content\n",
            "  0% 0.00/86.8k [00:00<?, ?B/s]\n",
            "100% 86.8k/86.8k [00:00<00:00, 33.0MB/s]\n",
            "Downloading test1.zip to /content\n",
            " 96% 261M/271M [00:03<00:00, 82.9MB/s]\n",
            "100% 271M/271M [00:03<00:00, 83.1MB/s]\n",
            "Downloading train.zip to /content\n",
            " 99% 537M/543M [00:05<00:00, 82.4MB/s]\n",
            "100% 543M/543M [00:05<00:00, 95.1MB/s]\n"
          ],
          "name": "stdout"
        }
      ]
    },
    {
      "cell_type": "code",
      "metadata": {
        "id": "aldN0FcB93LS",
        "colab_type": "code",
        "colab": {}
      },
      "source": [
        "!apt-get install zip\n",
        "!unzip ./train.zip\n",
        "!unzip ./test1.zip"
      ],
      "execution_count": 0,
      "outputs": []
    },
    {
      "cell_type": "code",
      "metadata": {
        "id": "2xzaUd0PAC7A",
        "colab_type": "code",
        "colab": {}
      },
      "source": [
        "!ls ./train"
      ],
      "execution_count": 0,
      "outputs": []
    },
    {
      "cell_type": "code",
      "metadata": {
        "id": "HejX2fEC21s2",
        "colab_type": "code",
        "colab": {}
      },
      "source": [
        "import os,shutil\n",
        "#原始数据解压目录的路径\n",
        "original_datasets_dir = './train'   #阻止反斜杠转义\n",
        "#保存较小数据集的目录\n",
        "base_dir = './cats_and_dogs_small'\n",
        "os.mkdir(base_dir)   #创建一个名为cats_and_dogs_small的文件夹.默认的 mode 是 0777 (八进制)。\n",
        "\n",
        "#分别对应划分后的训练、验证和测试的目录 即在创建好的文件夹里面再创建训练、验证、测试子文件夹\n",
        "train_dir = os.path.join(base_dir,'train') #将目录和文件名合并成一个路径\n",
        "os.mkdir(train_dir)\n",
        "validation_dir = os.path.join(base_dir,'validation')\n",
        "os.mkdir(validation_dir)\n",
        "test_dir = os.path.join(base_dir,'test')\n",
        "os.mkdir(test_dir)\n",
        "\n",
        "#猫狗的训练目录 即在训练目录中创建猫、狗类的子文件夹\n",
        "train_cats_dir = os.path.join(train_dir,'cats') \n",
        "os.mkdir(train_cats_dir)\n",
        "train_dogs_dir = os.path.join(train_dir,'dogs')\n",
        "os.mkdir(train_dogs_dir)\n",
        "\n",
        "#猫狗的验证目录\n",
        "validation_cats_dir = os.path.join(validation_dir,'cats')\n",
        "os.mkdir(validation_cats_dir)\n",
        "validation_dogs_dir = os.path.join(validation_dir,'dogs')\n",
        "os.mkdir(validation_dogs_dir)\n",
        "\n",
        "#猫狗的测试目录\n",
        "test_cats_dir = os.path.join(test_dir,'cats')\n",
        "os.mkdir(test_cats_dir)\n",
        "test_dogs_dir = os.path.join(test_dir,'dogs')\n",
        "os.mkdir(test_dogs_dir)\n",
        "\n",
        "#将前1000张猫图像复制到Train_cats_dir\n",
        "fnames = ['cat.{}.jpg'.format(i) for i in range(1000)]\n",
        "for fname in fnames:\n",
        "    scr = os.path.join(original_datasets_dir,fname)\n",
        "    dst = os.path.join(train_cats_dir,fname)\n",
        "    shutil.copyfile(scr,dst)\n",
        "    \n",
        "fnames = ['cat.{}.jpg'.format(i) for i in range(1000,1500)]\n",
        "for fname in fnames:\n",
        "    scr =os.path.join(original_datasets_dir,fname)\n",
        "    dst = os.path.join(validation_cats_dir,fname)\n",
        "    shutil.copyfile(scr,dst)\n",
        "    \n",
        "fnames = ['cat.{}.jpg'.format(i) for i in range(1500,2000)]\n",
        "for fname in fnames:\n",
        "    scr = os.path.join(original_datasets_dir,fname)\n",
        "    dst = os.path.join(test_cats_dir,fname)\n",
        "    shutil.copyfile(scr,dst)   #copyfile(1,2)把1复制到2中\n",
        "    \n",
        "fnames = ['dog.{}.jpg'.format(i) for i in range(1000)]\n",
        "for fname in fnames:\n",
        "    scr = os.path.join(original_datasets_dir,fname)\n",
        "    dst = os.path.join(train_dogs_dir,fname)\n",
        "    shutil.copyfile(scr,dst)\n",
        "    \n",
        "fnames = ['dog.{}.jpg'.format(i) for i in range(1000,1500)]\n",
        "for fname in fnames:\n",
        "    scr = os.path.join(original_datasets_dir,fname)\n",
        "    dst = os.path.join(validation_dogs_dir,fname)\n",
        "    shutil.copyfile(scr,dst)\n",
        "\n",
        "fnames = ['dog.{}.jpg'.format(i) for i in range(1500,2000)]\n",
        "for fname in fnames:\n",
        "    scr= os.path.join(original_datasets_dir,fname)\n",
        "    dst = os.path.join(test_dogs_dir,fname)\n",
        "    shutil.copyfile(scr,dst)"
      ],
      "execution_count": 0,
      "outputs": []
    },
    {
      "cell_type": "code",
      "metadata": {
        "id": "i6-Zkchz3UaN",
        "colab_type": "code",
        "outputId": "92e7298d-47a3-49e0-b2cf-fb7523de1f36",
        "colab": {
          "base_uri": "https://localhost:8080/",
          "height": 71
        }
      },
      "source": [
        "print('training cats:',len(os.listdir(train_cats_dir)))\n",
        "\n",
        "print('validation dogs:',len(os.listdir(validation_dogs_dir)))\n",
        "\n",
        "print('test cats:',len(os.listdir(test_cats_dir)))"
      ],
      "execution_count": 0,
      "outputs": [
        {
          "output_type": "stream",
          "text": [
            "training cats: 1000\n",
            "validation dogs: 500\n",
            "test cats: 500\n"
          ],
          "name": "stdout"
        }
      ]
    },
    {
      "cell_type": "code",
      "metadata": {
        "id": "4KXgzRIV3VVM",
        "colab_type": "code",
        "outputId": "94a2b173-05c9-4f10-9f27-d5c73cae5ace",
        "colab": {
          "base_uri": "https://localhost:8080/",
          "height": 718
        }
      },
      "source": [
        "from keras import layers\n",
        "from keras import models\n",
        "\n",
        "model = models.Sequential()\n",
        "model.add(layers.Conv2D(32,(3,3),activation='relu',input_shape=(150,150,3)))  #图片大小150*150，3表示彩色图像\n",
        "model.add(layers.MaxPooling2D((2,2)))\n",
        "model.add(layers.Conv2D(64,(3,3),activation='relu'))\n",
        "model.add(layers.MaxPooling2D((2,2)))\n",
        "model.add(layers.Conv2D(128,(3,3),activation='relu'))\n",
        "model.add(layers.MaxPooling2D((2,2)))\n",
        "model.add(layers.Conv2D(128,(3,3),activation='relu'))\n",
        "model.add(layers.MaxPooling2D((2,2)))\n",
        "\n",
        "model.add(layers.Flatten())\n",
        "model.add(layers.Dense(512,activation='relu'))\n",
        "model.add(layers.Dense(1,activation='sigmoid'))\n",
        "\n",
        "model.summary()"
      ],
      "execution_count": 0,
      "outputs": [
        {
          "output_type": "stream",
          "text": [
            "WARNING:tensorflow:From /usr/local/lib/python3.6/dist-packages/keras/backend/tensorflow_backend.py:66: The name tf.get_default_graph is deprecated. Please use tf.compat.v1.get_default_graph instead.\n",
            "\n",
            "WARNING:tensorflow:From /usr/local/lib/python3.6/dist-packages/keras/backend/tensorflow_backend.py:541: The name tf.placeholder is deprecated. Please use tf.compat.v1.placeholder instead.\n",
            "\n",
            "WARNING:tensorflow:From /usr/local/lib/python3.6/dist-packages/keras/backend/tensorflow_backend.py:4432: The name tf.random_uniform is deprecated. Please use tf.random.uniform instead.\n",
            "\n",
            "WARNING:tensorflow:From /usr/local/lib/python3.6/dist-packages/keras/backend/tensorflow_backend.py:4267: The name tf.nn.max_pool is deprecated. Please use tf.nn.max_pool2d instead.\n",
            "\n",
            "Model: \"sequential_1\"\n",
            "_________________________________________________________________\n",
            "Layer (type)                 Output Shape              Param #   \n",
            "=================================================================\n",
            "conv2d_1 (Conv2D)            (None, 148, 148, 32)      896       \n",
            "_________________________________________________________________\n",
            "max_pooling2d_1 (MaxPooling2 (None, 74, 74, 32)        0         \n",
            "_________________________________________________________________\n",
            "conv2d_2 (Conv2D)            (None, 72, 72, 64)        18496     \n",
            "_________________________________________________________________\n",
            "max_pooling2d_2 (MaxPooling2 (None, 36, 36, 64)        0         \n",
            "_________________________________________________________________\n",
            "conv2d_3 (Conv2D)            (None, 34, 34, 128)       73856     \n",
            "_________________________________________________________________\n",
            "max_pooling2d_3 (MaxPooling2 (None, 17, 17, 128)       0         \n",
            "_________________________________________________________________\n",
            "conv2d_4 (Conv2D)            (None, 15, 15, 128)       147584    \n",
            "_________________________________________________________________\n",
            "max_pooling2d_4 (MaxPooling2 (None, 7, 7, 128)         0         \n",
            "_________________________________________________________________\n",
            "flatten_1 (Flatten)          (None, 6272)              0         \n",
            "_________________________________________________________________\n",
            "dense_1 (Dense)              (None, 512)               3211776   \n",
            "_________________________________________________________________\n",
            "dense_2 (Dense)              (None, 1)                 513       \n",
            "=================================================================\n",
            "Total params: 3,453,121\n",
            "Trainable params: 3,453,121\n",
            "Non-trainable params: 0\n",
            "_________________________________________________________________\n"
          ],
          "name": "stdout"
        }
      ]
    },
    {
      "cell_type": "code",
      "metadata": {
        "id": "li2gUp-N3X5U",
        "colab_type": "code",
        "outputId": "56188afe-37a0-430d-e72a-5cde0e08f16e",
        "colab": {
          "base_uri": "https://localhost:8080/",
          "height": 163
        }
      },
      "source": [
        "from keras import optimizers\n",
        "model.compile(loss='binary_crossentropy',\n",
        "              optimizer=optimizers.RMSprop(lr=1e-4),\n",
        "              metrics=['acc'])"
      ],
      "execution_count": 0,
      "outputs": [
        {
          "output_type": "stream",
          "text": [
            "WARNING:tensorflow:From /usr/local/lib/python3.6/dist-packages/keras/optimizers.py:793: The name tf.train.Optimizer is deprecated. Please use tf.compat.v1.train.Optimizer instead.\n",
            "\n",
            "WARNING:tensorflow:From /usr/local/lib/python3.6/dist-packages/keras/backend/tensorflow_backend.py:3657: The name tf.log is deprecated. Please use tf.math.log instead.\n",
            "\n",
            "WARNING:tensorflow:From /usr/local/lib/python3.6/dist-packages/tensorflow_core/python/ops/nn_impl.py:183: where (from tensorflow.python.ops.array_ops) is deprecated and will be removed in a future version.\n",
            "Instructions for updating:\n",
            "Use tf.where in 2.0, which has the same broadcast rule as np.where\n"
          ],
          "name": "stdout"
        }
      ]
    },
    {
      "cell_type": "code",
      "metadata": {
        "id": "dt-RXxhB3aJ0",
        "colab_type": "code",
        "outputId": "fcbcd7a4-420f-4c5f-82f4-c0ec0c4ce39e",
        "colab": {
          "base_uri": "https://localhost:8080/",
          "height": 53
        }
      },
      "source": [
        "from keras.preprocessing.image import ImageDataGenerator\n",
        "\n",
        "#将所有图像除以255缩放到[0-1]\n",
        "train_datagen = ImageDataGenerator(rescale=1./255)    #datagen数据发生器\n",
        "test_datagen = ImageDataGenerator(rescale=1./255)\n",
        "\n",
        "train_generator = train_datagen.flow_from_directory(      #数据集生成器\n",
        "    train_dir,    #目标目录\n",
        "    target_size=(150,150),   #将所有图像的大小调整为150*150\n",
        "    batch_size=20,   #批处理数据的大小\n",
        "    class_mode='binary')   #因为使用了binary_crossetropy损失，所以需要二进制标签 \n",
        "\n",
        "validation_generator = test_datagen.flow_from_directory(\n",
        "    validation_dir,\n",
        "    target_size=(150,150),\n",
        "    batch_size=20,\n",
        "    class_mode='binary')"
      ],
      "execution_count": 0,
      "outputs": [
        {
          "output_type": "stream",
          "text": [
            "Found 2000 images belonging to 2 classes.\n",
            "Found 1000 images belonging to 2 classes.\n"
          ],
          "name": "stdout"
        }
      ]
    },
    {
      "cell_type": "code",
      "metadata": {
        "id": "Xd3QjBt-3cfH",
        "colab_type": "code",
        "outputId": "7b2ab2be-c259-40f1-da4e-54c694918bdb",
        "colab": {
          "base_uri": "https://localhost:8080/",
          "height": 53
        }
      },
      "source": [
        "for data_batch, labels_batch in train_generator:\n",
        "    print('data batch shape:', data_batch.shape)\n",
        "    print('labels batch shape:', labels_batch.shape)\n",
        "    break    #阻止生成器不停地生成这些批量，阻止循环目标文件夹中的图像"
      ],
      "execution_count": 0,
      "outputs": [
        {
          "output_type": "stream",
          "text": [
            "data batch shape: (20, 150, 150, 3)\n",
            "labels batch shape: (20,)\n"
          ],
          "name": "stdout"
        }
      ]
    },
    {
      "cell_type": "code",
      "metadata": {
        "id": "EYQsFgPf3fDX",
        "colab_type": "code",
        "outputId": "91be5cd0-d5e2-4f03-a337-eb1f3d600412",
        "colab": {
          "base_uri": "https://localhost:8080/",
          "height": 242
        }
      },
      "source": [
        "history = model.fit_generator(\n",
        "    train_generator,  #生成器，可不停生成输入和目标组成的批量                            \n",
        "    steps_per_epoch=100,  #由于不停生成，故需知道每轮从生成器中抽取100个样本(运行100次梯度下降)                            \n",
        "    epochs=20,                             \n",
        "    validation_data=validation_generator,                            \n",
        "    validation_steps=50)   #从验证生成器中抽取50个批次用于评估"
      ],
      "execution_count": 2,
      "outputs": [
        {
          "output_type": "error",
          "ename": "NameError",
          "evalue": "ignored",
          "traceback": [
            "\u001b[0;31m---------------------------------------------------------------------------\u001b[0m",
            "\u001b[0;31mNameError\u001b[0m                                 Traceback (most recent call last)",
            "\u001b[0;32m<ipython-input-2-8b2244b0e217>\u001b[0m in \u001b[0;36m<module>\u001b[0;34m()\u001b[0m\n\u001b[0;32m----> 1\u001b[0;31m history = model.fit_generator(\n\u001b[0m\u001b[1;32m      2\u001b[0m     \u001b[0mtrain_generator\u001b[0m\u001b[0;34m,\u001b[0m  \u001b[0;31m#生成器，可不停生成输入和目标组成的批量\u001b[0m\u001b[0;34m\u001b[0m\u001b[0;34m\u001b[0m\u001b[0m\n\u001b[1;32m      3\u001b[0m     \u001b[0msteps_per_epoch\u001b[0m\u001b[0;34m=\u001b[0m\u001b[0;36m100\u001b[0m\u001b[0;34m,\u001b[0m  \u001b[0;31m#由于不停生成，故需知道每轮从生成器中抽取100个样本(运行100次梯度下降)\u001b[0m\u001b[0;34m\u001b[0m\u001b[0;34m\u001b[0m\u001b[0m\n\u001b[1;32m      4\u001b[0m     \u001b[0mepochs\u001b[0m\u001b[0;34m=\u001b[0m\u001b[0;36m20\u001b[0m\u001b[0;34m,\u001b[0m\u001b[0;34m\u001b[0m\u001b[0;34m\u001b[0m\u001b[0m\n\u001b[1;32m      5\u001b[0m     \u001b[0mvalidation_data\u001b[0m\u001b[0;34m=\u001b[0m\u001b[0mvalidation_generator\u001b[0m\u001b[0;34m,\u001b[0m\u001b[0;34m\u001b[0m\u001b[0;34m\u001b[0m\u001b[0m\n",
            "\u001b[0;31mNameError\u001b[0m: name 'model' is not defined"
          ]
        }
      ]
    },
    {
      "cell_type": "code",
      "metadata": {
        "id": "2U6_ZXny3hmW",
        "colab_type": "code",
        "colab": {}
      },
      "source": [
        "model.save('cats_dogs_small_1.h5')"
      ],
      "execution_count": 0,
      "outputs": []
    },
    {
      "cell_type": "code",
      "metadata": {
        "id": "aD9_s3MP3kHj",
        "colab_type": "code",
        "outputId": "49b988d8-d3cb-49d3-b649-1d932717cdec",
        "colab": {
          "base_uri": "https://localhost:8080/",
          "height": 545
        }
      },
      "source": [
        "import matplotlib.pyplot as plt\n",
        "\n",
        "acc = history.history['acc']\n",
        "val_acc = history.history['val_acc']\n",
        "loss = history.history['loss']\n",
        "val_loss = history.history['val_loss']\n",
        "\n",
        "epochs = range(1,len(acc) +1)  #\n",
        "\n",
        "plt.plot(epochs,acc,'bo',label='Traning acc')\n",
        "plt.plot(epochs,val_acc,'b',label = 'Validation acc')\n",
        "plt.title('Training and Validation accuracy')\n",
        "plt.legend()\n",
        "\n",
        "plt.figure() #创建新的图形\n",
        "\n",
        "plt.plot(epochs,loss,'bo',label = 'Training loss')\n",
        "plt.plot(epochs,val_loss,'b',label='Validation loss')\n",
        "plt.title('Training and Validation lossfunction')\n",
        "plt.legend()\n",
        "\n",
        "plt.show()"
      ],
      "execution_count": 0,
      "outputs": [
        {
          "output_type": "display_data",
          "data": {
            "image/png": "[encoded data removed]",
            "text/plain": [
              "<Figure size 432x288 with 1 Axes>"
            ]
          },
          "metadata": {
            "tags": []
          }
        },
        {
          "output_type": "display_data",
          "data": {
            "image/png": "[encoded data removed]",
            "text/plain": [
              "<Figure size 432x288 with 1 Axes>"
            ]
          },
          "metadata": {
            "tags": []
          }
        }
      ]
    },
    {
      "cell_type": "code",
      "metadata": {
        "id": "KR7NuazD3mEI",
        "colab_type": "code",
        "outputId": "397dfb61-874a-46f3-b740-ec0a4942be09",
        "colab": {
          "base_uri": "https://localhost:8080/",
          "height": 135
        }
      },
      "source": [
        "#数据增强\n",
        "\n",
        "datagen=TmageDataGenerator(rotation_range=40,  #角度值，(0-180)图像随机旋转的的角度范围\n",
        "                           width_shift_range=0.2,  #图像在水平或垂直方向上平移的范围\n",
        "                           heigth_shift_range=0.2,\n",
        "                           shear_range=0.2,  #随机错切变换的角度\n",
        "                           zoom_range=0.2,   #随机缩放的范围\n",
        "                           horizontal_flip=True,  #随即将一半图像水平翻转\n",
        "                           fill_mode='nearest')  #用于填充新创建像素的方法，新像素可能来自旋转等\n",
        "  \n",
        "#显示几个随机增强后的训练图像\n",
        "from keras.preprocessing import image   #导入图像预处理工具模块\n",
        "\n",
        "fnames = [os.path.join(train_cats_dir,fname) for fname in os,listdir(train_cats_dir)]\n",
        "\n",
        "img_path = fname[3]  #选一张图像进行增强\n",
        "\n",
        "img = image.load_img(img_path,target_size=(150,150)) #读取图像并调整大小\n",
        "\n",
        "x = image.img_to_array(img) #将其转换为形状（150,150,3）的numpy数组\n",
        "\n",
        "x = x.reshape((1,) + x.shape)  #将其形状改变为（1,150,150,3）\n",
        "\n",
        "#生成随机变换后的图像批量，循环是无限需break\n",
        "i=0\n",
        "for batch in datagen.flow(x,batch_size=1):       \n",
        "    plt.figure(i)\n",
        "    imgplot = plt.imshow(image,array_to_img(batch[0]))\n",
        "    i += 1\n",
        "    if i % 4 ==0:\n",
        "        break\n",
        "        \n",
        "plt.show()"
      ],
      "execution_count": 0,
      "outputs": [
        {
          "output_type": "error",
          "ename": "SyntaxError",
          "evalue": "ignored",
          "traceback": [
            "\u001b[0;36m  File \u001b[0;32m\"<ipython-input-16-9438bc96332b>\"\u001b[0;36m, line \u001b[0;32m13\u001b[0m\n\u001b[0;31m    fnames = [os.path.join(train_cats_dir,fname) for fname in os,listdir(train_cats_dir)]\u001b[0m\n\u001b[0m                                                                ^\u001b[0m\n\u001b[0;31mSyntaxError\u001b[0m\u001b[0;31m:\u001b[0m invalid syntax\n"
          ]
        }
      ]
    },
    {
      "cell_type": "code",
      "metadata": {
        "id": "_Cql4vXd3p5o",
        "colab_type": "code",
        "colab": {}
      },
      "source": [
        "定义一个包含dropout的CNN\n",
        "add(layers.Dropout(0.5))"
      ],
      "execution_count": 0,
      "outputs": []
    }
  ]
}