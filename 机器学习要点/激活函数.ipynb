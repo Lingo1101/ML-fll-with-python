{
 "cells": [
  {
   "cell_type": "markdown",
   "metadata": {},
   "source": [
    "#### 常见的激活函数有sigmoid、tanh和relu三种非线性函数，其数学表达式分别为：\n",
    "\n",
    "sigmoid: y = 1/(1 + e-x)\n",
    "\n",
    "tanh: y = (ex - e-x)/(ex + e-x)\n",
    "\n",
    "relu: y = max(0, x)\n",
    "\n",
    "其代码实现如下：https://www.cnblogs.com/hutao722/p/9732223.html\n",
    "\n",
    "其图形解释如下：![2](images/2.png)\n",
    "\n",
    "　　相较而言，在隐藏层，tanh函数要优于sigmoid函数，可以认为是sigmoid的平移版本，优势在于其取值范围介于-1 ~ 1之间，数据的平均值为0，而不像sigmoid为0.5，有类似数据中心化的效果。\n",
    "\n",
    "　　但在输出层，sigmoid也许会优于tanh函数，原因在于你希望输出结果的概率落在0 ~ 1 之间，比如二元分类，sigmoid可作为输出层的激活函数。\n",
    "\n",
    "　　但实际应用中，特别是深层网络在训练时，tanh和sigmoid会在端值趋于饱和，造成训练速度减慢，故深层网络的激活函数默认大多采用relu函数，浅层网络可以采用sigmoid和tanh函数。\n",
    "\n",
    " \n",
    "　　另外有必要了解激活函数的求导公式，在反向传播中才知道是如何进行梯度下降。三个函数的求导结果及推理过程如下：\n",
    "\n",
    "　　1. sigmoid求导函数：\n",
    "\n",
    "　　其中，sigmoid函数定义为 y = 1/(1 + e-x)  = (1 + e-x)-1\n",
    "\n",
    "　　与此相关的基础求导公式：(xn)' = n * xn-1   和  (ex)' = ex\n",
    "\n",
    "　　应用链式法则，其求导过程为：dy/dx = -1 * (1 + e-x)-2 * e-x * (-1)\n",
    "\n",
    "　　　　　　　　　　　　　　　　　　  =  e-x * (1 + e-x)-2\n",
    "\n",
    "　　　　　　　　　　　　　　　　　　  = (1 + e-x - 1) / (1 + e-x)2\n",
    "\n",
    "　　　　　　　　　　　　　　　　　　  = (1 + e-x)-1  -  (1 + e-x)-2 \n",
    "\n",
    "　　　　　　　　　　　　　　　　　　  = y - y2 \n",
    "\n",
    "　　　　　　　　　　　　　　　　　　  = y(1 -y)\n",
    "\n",
    "      2. tanh求导函数：\n",
    "\n",
    "　　其中，tanh函数定义为 y = (ex - e-x)/(ex + e-x)\n",
    "\n",
    "　　与此相关的基础求导公式：(u/v)' = (u' v - uv') / v2 \n",
    "\n",
    "　　同样应用链式法则，其求导过程为：dy/dx = ( (ex - e-x)' * (ex + e-x) - (ex - e-x) * (ex + e-x)' ) / (ex + e-x)2 \n",
    "\n",
    "　　　　　　　　　　　　　　　　　　　　  =  ( (ex - (-1) * e-x) * (ex + e-x) - (ex - e-x) * (ex + (-1) * e-x) ) / (ex + e-x)2 　　\n",
    "\n",
    "　　　　　　　　　　　　　　　　　　　　  =  ( (ex + e-x)2  -  (ex - e-x)2 ) / (ex + e-x)2 \n",
    "\n",
    "　　　　　　　　　　　　　　　　　　　　  =  1 -  ( (ex - e-x)/(ex + e-x) )2 \n",
    "\n",
    "　　　　　　　　　　　　　　　　　　　　  = 1 - y2 \n",
    "\n",
    "　　3. relu求导函数：\n",
    "\n",
    "　　其中，relu函数定义为 y = max(0, x)\n",
    "\n",
    "　　可以简单推理出 当x <0 时，dy/dx = 0; 当 x >= 0时，dy/dx = 1"
   ]
  },
  {
   "cell_type": "markdown",
   "metadata": {},
   "source": [
    "![](images/1.jpg)"
   ]
  }
 ],
 "metadata": {
  "kernelspec": {
   "display_name": "Python 3",
   "language": "python",
   "name": "python3"
  },
  "language_info": {
   "codemirror_mode": {
    "name": "ipython",
    "version": 3
   },
   "file_extension": ".py",
   "mimetype": "text/x-python",
   "name": "python",
   "nbconvert_exporter": "python",
   "pygments_lexer": "ipython3",
   "version": "3.6.8"
  }
 },
 "nbformat": 4,
 "nbformat_minor": 2
}
