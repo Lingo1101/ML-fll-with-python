{
 "cells": [
  {
   "cell_type": "code",
   "execution_count": 5,
   "metadata": {},
   "outputs": [
    {
     "name": "stdout",
     "output_type": "stream",
     "text": [
      "holle,world holle\n"
     ]
    }
   ],
   "source": [
    "#指定位置\n",
    "print(\"{0},{1} {0}\".format(\"holle\",\"world\"))   "
   ]
  },
  {
   "cell_type": "code",
   "execution_count": 7,
   "metadata": {},
   "outputs": [
    {
     "name": "stdout",
     "output_type": "stream",
     "text": [
      "网站名：www.runoob.com, 地址 菜鸟教程\n"
     ]
    }
   ],
   "source": [
    "# 通过列表索引设置参数\n",
    "my_list = ['菜鸟教程', 'www.runoob.com']\n",
    "print(\"网站名：{0[1]}, 地址 {0[0]}\".format(my_list))  # \"0\" 是必须的"
   ]
  },
  {
   "cell_type": "code",
   "execution_count": 9,
   "metadata": {},
   "outputs": [
    {
     "name": "stdout",
     "output_type": "stream",
     "text": [
      "3.14\n"
     ]
    }
   ],
   "source": [
    "print(\"{:.2f}\".format(3.1415926))"
   ]
  }
 ],
 "metadata": {
  "kernelspec": {
   "display_name": "Python 3",
   "language": "python",
   "name": "python3"
  },
  "language_info": {
   "codemirror_mode": {
    "name": "ipython",
    "version": 3
   },
   "file_extension": ".py",
   "mimetype": "text/x-python",
   "name": "python",
   "nbconvert_exporter": "python",
   "pygments_lexer": "ipython3",
   "version": "3.6.8"
  }
 },
 "nbformat": 4,
 "nbformat_minor": 2
}
