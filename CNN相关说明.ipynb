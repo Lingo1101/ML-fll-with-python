{
 "cells": [
  {
   "cell_type": "markdown",
   "metadata": {},
   "source": [
    "### padding\n",
    "通过一个3*3的过滤器来对6*6的图像进行卷积，得到了一幅4*4的图像，假设输出图像大小为n*n与过滤器大小为f*f，输出图像大小则为(n−f+1)∗(n−f+1)(n−f+1)∗(n−f+1)。容易失去边缘信息，故引入padding进行边缘填充，即在图像卷积操作之前，沿着图像边缘用0进行图像填充\n",
    "\n",
    "### 步长\n",
    "\n",
    "加入stride后卷积图像大小的通用计算公式为：\n",
    "输入图像：n*n，过滤器：f*f步长：s，padding：p\n",
    "输出图像大小为::⌊((n+2p−f)/s+1))⌋∗⌊((n+2p−f)/s+1)⌋，⌊⌋⌊⌋表示向下取整\n",
    "例：输入图像7*7，过滤器3*3，步长为2，padding模式为valid为例输出图像大小为:⌊((7+2∗0−3)2+1)⌋∗⌊(7+2∗0−3)2+1)⌋=3∗3\n",
    "\n",
    "### 模型最后一层激活和损失函数\n",
    "——\n",
    "问题类型             最后一层激活       损失函数\n",
    "二分类               sigmoid         binary_crossentropy\n",
    "多分类、多标签         softmax         categorical_crossentropy\n",
    "多分类、单标签         sigmoid         binary_crossentropy\n",
    "回归到任意值             无          mse\n",
    "回归到0~1             simoid         mse或binary_\n",
    "———\n",
    "\n",
    "\n",
    "### 参数个数\n",
    "每个过滤器都有3*3*3+1=28个参数，3*3*3为过滤器大小，1是偏差系数，10个过滤器参数个数就是28*10=280个。不论输入图像大小参数个数是不会发生改变的。\n",
    "\n"
   ]
  },
  {
   "cell_type": "code",
   "execution_count": 2,
   "metadata": {},
   "outputs": [
    {
     "name": "stdout",
     "output_type": "stream",
     "text": [
      "cat.2.jpg\n"
     ]
    }
   ],
   "source": [
    "a=2\n",
    "\n",
    "print(\"cat.{}.jpg\".format(a))\n",
    "\n"
   ]
  }
 ],
 "metadata": {
  "kernelspec": {
   "display_name": "Python 3",
   "language": "python",
   "name": "python3"
  },
  "language_info": {
   "codemirror_mode": {
    "name": "ipython",
    "version": 3
   },
   "file_extension": ".py",
   "mimetype": "text/x-python",
   "name": "python",
   "nbconvert_exporter": "python",
   "pygments_lexer": "ipython3",
   "version": "3.7.4"
  }
 },
 "nbformat": 4,
 "nbformat_minor": 2
}
